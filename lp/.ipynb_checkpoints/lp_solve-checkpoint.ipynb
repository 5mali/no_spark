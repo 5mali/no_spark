{
 "cells": [
  {
   "cell_type": "code",
   "execution_count": 1,
   "metadata": {},
   "outputs": [],
   "source": [
    "%matplotlib inline\n",
    "\n",
    "from datetime import datetime\n",
    "tic = datetime.now()\n",
    "\n",
    "import os\n",
    "from os.path import dirname, abspath, join\n",
    "from os import getcwd\n",
    "import sys\n",
    "\n",
    "# THIS_DIR = getcwd()\n",
    "# CLASS_DIR = abspath(join(THIS_DIR, 'dsnclasses'))  #abspath(join(THIS_DIR, '../../..', 'dsnclasses'))\n",
    "# sys.path.append(CLASS_DIR)"
   ]
  },
  {
   "cell_type": "code",
   "execution_count": 2,
   "metadata": {},
   "outputs": [],
   "source": [
    "import pulp\n",
    "import pandas as pd\n",
    "import numpy as np\n",
    "import matplotlib.pyplot as plt\n"
   ]
  },
  {
   "cell_type": "code",
   "execution_count": 3,
   "metadata": {},
   "outputs": [],
   "source": [
    "location = 'tokyo'\n",
    "year = 2010\n",
    "\n",
    "THIS_DIR = getcwd()\n",
    "SDATA_DIR = abspath(join(THIS_DIR, '../' 'solar_data'))  #abspath(join(THIS_DIR, '../../..', 'data'))\n",
    "\n",
    "sfile = SDATA_DIR + '/' + location +'/' + str(year) + '.csv'\n",
    "\n",
    "#skiprows=4 to remove unnecessary title texts\n",
    "#usecols=4 to read only the Global Solar Radiation (GSR) values\n",
    "solar_radiation = pd.read_csv(sfile, skiprows=4, encoding='shift_jisx0213', usecols=[4])\n",
    "\n",
    "#convert dataframe to numpy array\n",
    "solar_radiation = solar_radiation.values\n",
    "\n",
    "#convert missing data in CSV files to zero\n",
    "solar_radiation[np.isnan(solar_radiation)] = 0\n",
    "\n",
    "#reshape solar_radiation into no_of_daysx24 array\n",
    "solar_radiation = solar_radiation.reshape(-1,24)\n",
    "\n",
    "#GSR values (in MJ/sq.mts per hour) need to be expressed in mW\n",
    "# Conversion is accomplished by \n",
    "# solar_energy = GSR(in MJ/m2/hr) * 1e6 * size of solar cell * efficiency of solar cell /(60x60) *1000 (to express in mW)\n",
    "# the factor of 2 in the end is assuming two solar cells\n",
    "senergy = 2*solar_radiation * 1e6 * (55e-3 * 70e-3) * 0.15 * 1000/(60*60)\n"
   ]
  },
  {
   "cell_type": "code",
   "execution_count": 4,
   "metadata": {},
   "outputs": [],
   "source": [
    "# no_of_days_to_plot = len(solar_radiation)\n",
    "# plt.figure\n",
    "# for i in range(no_of_days_to_plot):\n",
    "#     plt.plot(senergy[i])\n",
    "# plt.show()"
   ]
  },
  {
   "cell_type": "code",
   "execution_count": 5,
   "metadata": {},
   "outputs": [],
   "source": [
    "HMAX = 1000 #Maximum harvested energy\n",
    "senergy = np.clip(senergy,0,HMAX)\n",
    "DAY = 200\n",
    "henergy = senergy[DAY]"
   ]
  },
  {
   "cell_type": "code",
   "execution_count": 6,
   "metadata": {},
   "outputs": [],
   "source": [
    "SLOTS = len(henergy)\n",
    "\n",
    "DMIN = 1 #10% duty cycle = 50 mWhr\n",
    "DMAX = 10 #100% duty cycle = 500 mWhr\n",
    "DSCALE = 50 #scale to convert action value to actual power consumption\n",
    "NMAX = DMAX * DSCALE #max energy consumption\n",
    "\n",
    "BMIN = 0.0\n",
    "BMAX = 9250.0\n",
    "BOPT = 0.6 * BMAX\n",
    "BINIT = 0.6 * BMAX\n",
    "\n",
    "optimization_flag = None #0 = lowest duty cycle; 1 = LP solution; 2 = highest duty cycle;"
   ]
  },
  {
   "cell_type": "code",
   "execution_count": 7,
   "metadata": {},
   "outputs": [],
   "source": [
    "#the epochs in a window of SLOTS numbers of slots\n",
    "epoch = ['epoch_%d' %i for i in range(1, SLOTS + 1, 1)]\n",
    "\n",
    "#Create dictionary of harvested energy\n",
    "henergy_dict = dict(zip(epoch, henergy))"
   ]
  },
  {
   "cell_type": "code",
   "execution_count": 8,
   "metadata": {},
   "outputs": [],
   "source": [
    "if sum(henergy) < DMIN*DSCALE*SLOTS:\n",
    "    print(\"Always on lowest duty cycle\")\n",
    "    optimization_flag = 0\n",
    "elif sum(henergy) > DMAX*DSCALE*SLOTS:\n",
    "    print(\"Always on highest duty cycle\")\n",
    "    optimization_flag = 2\n",
    "else:\n",
    "    #Define the LP problem as \"ENO\" as type Minimization\n",
    "    model = pulp.LpProblem('ENO', pulp.LpMinimize)\n",
    "\n",
    "    \n",
    "\n",
    "    # create a dictionary of pulp LpVariables with keys corresponding to values in the list epoch\n",
    "    action_dict = pulp.LpVariable.dicts('action', epoch , \n",
    "                                       lowBound=DMIN, upBound=DMAX, \n",
    "                                       cat=pulp.LpInteger)\n",
    "\n",
    "    \n",
    "    total_consumed_energy = pulp.lpSum([action_dict[key] for key in epoch]) * DSCALE\n",
    "    deviation = (BOPT - (BINIT + sum(henergy) - total_consumed_energy))\n",
    "\n",
    "    #Objective function is to minimize the deviation from optimal battery level\n",
    "    #Create a variable t such that |deviation|<=t\n",
    "    #We tolerate a deviation of maximum 50 mWh\n",
    "    # -t <= deviation <= t\n",
    "    t = pulp.LpVariable('t', lowBound=50, cat='Continuous')\n",
    "    model += t\n",
    "\n",
    "    #Constraints A\n",
    "    model += deviation <= t\n",
    "    model += deviation >= -t\n",
    "\n",
    "    #Constraints B\n",
    "    #Create a dummy list of lists with entries [[epoch_1], [epoch_1, epoch_2], .... ]\n",
    "    dummy = [epoch[0:i] for i in range(1,len(epoch)+1)]\n",
    "\n",
    "    #dictionary of cumulative action variables [[a1], [a1 + a2],....]\n",
    "    a_var_cum = {}\n",
    "\n",
    "    #dictionary of cumulative harvested energy constants [[h1], [h1 + h2],....]\n",
    "    henergy_cum = {} \n",
    "\n",
    "    for i in range(0 , len(epoch)):\n",
    "        a_var_cum[epoch[i]] = pulp.lpSum([action_dict[key]*DSCALE for key in dummy[i]])\n",
    "        henergy_cum[epoch[i]] = sum([henergy_dict[key] for key in dummy[i]])\n",
    "        #henergy_cum = dict(zip(epoch, np.add.accumulate(henergy)))\n",
    "\n",
    "\n",
    "    for key in epoch:\n",
    "        model += BINIT + henergy_cum[key] - a_var_cum[key] <= BMAX\n",
    "        model += BINIT + henergy_cum[key] - a_var_cum[key] >= BMIN\n",
    "\n",
    "    #Solve the model\n",
    "    optimization_flag = model.solve()\n",
    "    #print(pulp.LpStatus[model.status])"
   ]
  },
  {
   "cell_type": "code",
   "execution_count": 9,
   "metadata": {},
   "outputs": [],
   "source": [
    "#Create list of optimized actions\n",
    "opt_act = {}\n",
    "if optimization_flag == 0:\n",
    "    a_val = [DMIN]*SLOTS\n",
    "elif optimization_flag == 1:\n",
    "    for var in epoch:\n",
    "        opt_act[var] = action_dict[var].varValue\n",
    "        a_val = list(opt_act.values())\n",
    "elif optimization_flag == 2:\n",
    "    a_val = [DMAX]*SLOTS"
   ]
  },
  {
   "cell_type": "code",
   "execution_count": 10,
   "metadata": {},
   "outputs": [],
   "source": [
    "#Create dictionary for node energy consumption from optimized actions\n",
    "n_val = [x*DSCALE for x in a_val] #convert action -> energy consumed\n",
    "node_consumption_dict = dict(zip(epoch,n_val))"
   ]
  },
  {
   "cell_type": "code",
   "execution_count": 11,
   "metadata": {},
   "outputs": [],
   "source": [
    "#Create battery dictionary\n",
    "batt_dict = {}\n",
    "previous_batt = BINIT\n",
    "for x in epoch[0:]:\n",
    "    batt_dict[x] = previous_batt + henergy_dict[x] - node_consumption_dict[x]\n",
    "    previous_batt = batt_dict[x]"
   ]
  },
  {
   "cell_type": "code",
   "execution_count": 12,
   "metadata": {},
   "outputs": [],
   "source": [
    "# #DISPLAY OUTPUT\n",
    "# print(\"The total harvested energy is {}\".format(sum(henergy)))\n",
    "\n",
    "# # total_consumption = sum(node_consumption_dict.values())\n",
    "# total_consumption = sum(n_val)\n",
    "# print (\"The total energy consumption is {}\".format(total_consumption))\n",
    "\n",
    "# #PERFORMANCE LOG\n",
    "# print(\"BINIT = {}\".format(BINIT))\n",
    "# print(\"[epoch, battery, henergy, nenergy]\")\n",
    "# for x in epoch:\n",
    "#     print([x, batt_dict[x], henergy_dict[x], node_consumption_dict[x] ])"
   ]
  },
  {
   "cell_type": "code",
   "execution_count": 14,
   "metadata": {},
   "outputs": [
    {
     "data": {
      "image/png": "[encoded data removed]",
      "text/plain": [
       "<Figure size 432x288 with 1 Axes>"
      ]
     },
     "metadata": {},
     "output_type": "display_data"
    }
   ],
   "source": [
    "#PLOT GRAPHS\n",
    "fig = plt.figure()\n",
    "ax = fig.add_subplot(111)\n",
    "ax.plot([batt_dict[key]/BMAX for key in epoch])\n",
    "ax.plot([henergy_dict[key]/HMAX for key in epoch])\n",
    "ax.plot([node_consumption_dict[key]/NMAX for key in epoch])\n",
    "ax.plot([BOPT/BMAX]*SLOTS, 'r:')\n",
    "ax.set_ylim([0,1.2])\n",
    "plt.show()\n"
   ]
  },
  {
   "cell_type": "code",
   "execution_count": null,
   "metadata": {},
   "outputs": [],
   "source": []
  }
 ],
 "metadata": {
  "kernelspec": {
   "display_name": "Python 3",
   "language": "python",
   "name": "python3"
  },
  "language_info": {
   "codemirror_mode": {
    "name": "ipython",
    "version": 3
   },
   "file_extension": ".py",
   "mimetype": "text/x-python",
   "name": "python",
   "nbconvert_exporter": "python",
   "pygments_lexer": "ipython3",
   "version": "3.6.3"
  }
 },
 "nbformat": 4,
 "nbformat_minor": 2
}
