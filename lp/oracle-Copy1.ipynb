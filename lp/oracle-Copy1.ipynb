{
 "cells": [
  {
   "cell_type": "code",
   "execution_count": 1,
   "metadata": {},
   "outputs": [],
   "source": [
    "%matplotlib inline\n",
    "\n",
    "from datetime import datetime\n",
    "tic = datetime.now()\n",
    "\n",
    "import os\n",
    "from os.path import dirname, abspath, join\n",
    "from os import getcwd\n",
    "import sys"
   ]
  },
  {
   "cell_type": "code",
   "execution_count": 2,
   "metadata": {},
   "outputs": [],
   "source": [
    "import pulp\n",
    "import pandas as pd\n",
    "import numpy as np\n",
    "import matplotlib.pyplot as plt"
   ]
  },
  {
   "cell_type": "code",
   "execution_count": 3,
   "metadata": {},
   "outputs": [],
   "source": [
    "HMAX = 1000 #Maximum harvested energy\n",
    "DMAX = 500\n",
    "N_ACTIONS = 10\n",
    "DMIN = DMAX/N_ACTIONS\n",
    "AMIN = 1 \n",
    "AMAX = N_ACTIONS\n",
    "DSCALE = DMAX/N_ACTIONS #scale to convert action value to actual power consumption\n",
    "NMAX = DMAX\n",
    "\n",
    "BMIN = 0.0\n",
    "BMAX = 9250.0\n",
    "BOPT = 0.5 * BMAX\n",
    "BINIT = 0.5 * BMAX"
   ]
  },
  {
   "cell_type": "code",
   "execution_count": 4,
   "metadata": {},
   "outputs": [],
   "source": [
    "location = 'tokyo'\n",
    "year = 2018"
   ]
  },
  {
   "cell_type": "code",
   "execution_count": 5,
   "metadata": {},
   "outputs": [],
   "source": [
    "THIS_DIR = getcwd()\n",
    "SDATA_DIR = abspath(join(THIS_DIR, '../' 'solar_data'))  #abspath(join(THIS_DIR, '../../..', 'data'))\n",
    "\n",
    "sfile = SDATA_DIR + '/' + location +'/' + str(year) + '.csv'\n",
    "\n",
    "#skiprows=4 to remove unnecessary title texts\n",
    "#usecols=4 to read only the Global Solar Radiation (GSR) values\n",
    "solar_radiation = pd.read_csv(sfile, skiprows=4, encoding='shift_jisx0213', usecols=[4])\n",
    "\n",
    "#convert dataframe to numpy array\n",
    "solar_radiation = solar_radiation.values\n",
    "\n",
    "#convert missing data in CSV files to zero\n",
    "solar_radiation[np.isnan(solar_radiation)] = 0\n",
    "\n",
    "#reshape solar_radiation into no_of_daysx24 array\n",
    "solar_radiation = solar_radiation.reshape(-1,24)\n",
    "\n",
    "#GSR values (in MJ/sq.mts per hour) need to be expressed in mW\n",
    "# Conversion is accomplished by \n",
    "# solar_energy = GSR(in MJ/m2/hr) * 1e6 * size of solar cell * efficiency of solar cell /(60x60) *1000 (to express in mW)\n",
    "# the factor of 2 in the end is assuming two solar cells\n",
    "senergy = 2*solar_radiation * 1e6 * (55e-3 * 70e-3) * 0.15 * 1000/(60*60)"
   ]
  },
  {
   "cell_type": "code",
   "execution_count": 6,
   "metadata": {},
   "outputs": [],
   "source": [
    "TIME_STEPS = senergy.shape[1]\n",
    "NO_OF_DAYS = senergy.shape[0]"
   ]
  },
  {
   "cell_type": "code",
   "execution_count": 7,
   "metadata": {},
   "outputs": [],
   "source": [
    "senergy = np.clip(senergy,0,HMAX)"
   ]
  },
  {
   "cell_type": "code",
   "execution_count": 8,
   "metadata": {},
   "outputs": [],
   "source": [
    "def solve(henergy, b_INIT):\n",
    "    SLOTS = len(henergy)\n",
    "    TIME_STEP = SLOTS\n",
    "    optimization_flag = None #0 = lowest duty cycle; 1 = LP solution; 2 = highest duty cycle;\n",
    "\n",
    "    #the epochs in a window of TIME_STEPS numbers of slots\n",
    "    epoch = ['epoch_%d' %i for i in range(1, TIME_STEPS + 1, 1)]\n",
    "\n",
    "    #Create dictionary of harvested energy\n",
    "    henergy_dict = dict(zip(epoch, henergy))\n",
    "\n",
    "\n",
    "    if sum(henergy) < AMIN*DSCALE*TIME_STEPS:\n",
    "        #print(\"Always on lowest duty cycle\")\n",
    "        optimization_flag = 0\n",
    "    elif sum(henergy) > AMAX*DSCALE*TIME_STEPS:\n",
    "        #print(\"Always on highest duty cycle\")\n",
    "        optimization_flag = 2\n",
    "    else:\n",
    "        #Define the LP problem as \"ENO\" as type Minimization\n",
    "        model = pulp.LpProblem('ENO', pulp.LpMinimize)\n",
    "\n",
    "\n",
    "        # create a dictionary of pulp LpVariables with keys corresponding to values in the list epoch\n",
    "        action_dict = pulp.LpVariable.dicts('action', epoch , \n",
    "                                           lowBound=AMIN, upBound=AMAX, \n",
    "                                           cat=pulp.LpInteger)\n",
    "\n",
    "\n",
    "        total_consumed_energy = pulp.lpSum([action_dict[key] for key in epoch]) * DSCALE\n",
    "        deviation = (BOPT - (b_INIT + sum(henergy) - total_consumed_energy))\n",
    "        mean_action = pulp.lpSum([action_dict[key] for key in epoch])/(TIME_STEPS + 1)\n",
    "        sd_action = pulp.lpSum([(action_dict[key]-mean_action) for key in epoch])\n",
    "\n",
    "        #Objective function is to minimize the deviation from optimal battery level\n",
    "        #Create a variable t such that |deviation|<=t\n",
    "        #We tolerate a deviation of maximum 50 mWh\n",
    "        # -t <= deviation <= t\n",
    "        t = pulp.LpVariable('t', lowBound=50, cat='Continuous')\n",
    "        sd_action_lim = = pulp.LpVariable('t', lowBound=0.15, cat='Continuous')\n",
    "        model += t\n",
    "        model += sd_action\n",
    "\n",
    "        #Constraints A\n",
    "        model += deviation <= t\n",
    "        model += deviation >= -t\n",
    "        model += 0.15 > sd_action\n",
    "\n",
    "        #Constraints B\n",
    "        #Create a dummy list of lists with entries [[epoch_1], [epoch_1, epoch_2], .... ]\n",
    "        dummy = [epoch[0:i] for i in range(1,len(epoch)+1)]\n",
    "\n",
    "        #dictionary of cumulative action variables [[a1], [a1 + a2],....]\n",
    "        a_var_cum = {}\n",
    "\n",
    "        #dictionary of cumulative harvested energy constants [[h1], [h1 + h2],....]\n",
    "        henergy_cum = {} \n",
    "\n",
    "        for i in range(0 , len(epoch)):\n",
    "            a_var_cum[epoch[i]] = pulp.lpSum([action_dict[key]*DSCALE for key in dummy[i]])\n",
    "            henergy_cum[epoch[i]] = sum([henergy_dict[key] for key in dummy[i]])\n",
    "            #henergy_cum = dict(zip(epoch, np.add.accumulate(henergy)))\n",
    "\n",
    "\n",
    "        for key in epoch:\n",
    "            model += b_INIT + henergy_cum[key] - a_var_cum[key] <= BMAX\n",
    "            model += b_INIT + henergy_cum[key] - a_var_cum[key] >= BMIN\n",
    "\n",
    "        #Solve the model\n",
    "        optimization_flag = model.solve()\n",
    "#         print(pulp.LpStatus[model.status], optimization_flag)\n",
    "\n",
    "    #Create list of optimized actions\n",
    "    opt_act = {}\n",
    "    if optimization_flag <= 0:\n",
    "        a_val = [AMIN]*TIME_STEPS\n",
    "    elif optimization_flag == 1:\n",
    "        for var in epoch:\n",
    "            opt_act[var] = action_dict[var].varValue\n",
    "            a_val = list(opt_act.values())\n",
    "    elif optimization_flag == 2:\n",
    "        a_val = [AMAX]*TIME_STEPS\n",
    "\n",
    "    return a_val"
   ]
  },
  {
   "cell_type": "code",
   "execution_count": 9,
   "metadata": {},
   "outputs": [
    {
     "name": "stderr",
     "output_type": "stream",
     "text": [
      "/usr/local/lib/python3.6/dist-packages/pulp/pulp.py:1349: UserWarning: Overwriting previously set objective.\n",
      "  warnings.warn(\"Overwriting previously set objective.\")\n"
     ]
    },
    {
     "ename": "TypeError",
     "evalue": "'>' not supported between instances of 'float' and 'LpAffineExpression'",
     "output_type": "error",
     "traceback": [
      "\u001b[0;31m---------------------------------------------------------------------------\u001b[0m",
      "\u001b[0;31mTypeError\u001b[0m                                 Traceback (most recent call last)",
      "\u001b[0;32m<ipython-input-9-5c09b4359a3d>\u001b[0m in \u001b[0;36m<module>\u001b[0;34m()\u001b[0m\n\u001b[1;32m      4\u001b[0m \u001b[0mprevious_batt\u001b[0m \u001b[0;34m=\u001b[0m \u001b[0mBINIT\u001b[0m\u001b[0;34m\u001b[0m\u001b[0m\n\u001b[1;32m      5\u001b[0m \u001b[0;32mfor\u001b[0m \u001b[0mday\u001b[0m \u001b[0;32min\u001b[0m \u001b[0mnp\u001b[0m\u001b[0;34m.\u001b[0m\u001b[0marange\u001b[0m\u001b[0;34m(\u001b[0m\u001b[0;36m0\u001b[0m\u001b[0;34m,\u001b[0m\u001b[0mNO_OF_DAYS\u001b[0m\u001b[0;34m)\u001b[0m\u001b[0;34m:\u001b[0m\u001b[0;34m\u001b[0m\u001b[0m\n\u001b[0;32m----> 6\u001b[0;31m     \u001b[0ma_val_rec\u001b[0m\u001b[0;34m[\u001b[0m\u001b[0mday\u001b[0m\u001b[0;34m]\u001b[0m \u001b[0;34m=\u001b[0m \u001b[0mnp\u001b[0m\u001b[0;34m.\u001b[0m\u001b[0marray\u001b[0m\u001b[0;34m(\u001b[0m\u001b[0msolve\u001b[0m\u001b[0;34m(\u001b[0m\u001b[0msenergy\u001b[0m\u001b[0;34m[\u001b[0m\u001b[0mday\u001b[0m\u001b[0;34m]\u001b[0m\u001b[0;34m,\u001b[0m\u001b[0mprevious_batt\u001b[0m\u001b[0;34m)\u001b[0m\u001b[0;34m)\u001b[0m\u001b[0;34m\u001b[0m\u001b[0m\n\u001b[0m\u001b[1;32m      7\u001b[0m     \u001b[0mn_val_rec\u001b[0m\u001b[0;34m[\u001b[0m\u001b[0mday\u001b[0m\u001b[0;34m]\u001b[0m \u001b[0;34m=\u001b[0m \u001b[0ma_val_rec\u001b[0m\u001b[0;34m[\u001b[0m\u001b[0mday\u001b[0m\u001b[0;34m]\u001b[0m\u001b[0;34m*\u001b[0m\u001b[0mDSCALE\u001b[0m\u001b[0;34m\u001b[0m\u001b[0m\n\u001b[1;32m      8\u001b[0m     \u001b[0;32mfor\u001b[0m \u001b[0mhour\u001b[0m \u001b[0;32min\u001b[0m \u001b[0mnp\u001b[0m\u001b[0;34m.\u001b[0m\u001b[0marange\u001b[0m\u001b[0;34m(\u001b[0m\u001b[0;36m0\u001b[0m\u001b[0;34m,\u001b[0m \u001b[0mTIME_STEPS\u001b[0m\u001b[0;34m)\u001b[0m\u001b[0;34m:\u001b[0m\u001b[0;34m\u001b[0m\u001b[0m\n",
      "\u001b[0;32m<ipython-input-8-3b7e1effc9ed>\u001b[0m in \u001b[0;36msolve\u001b[0;34m(henergy, b_INIT)\u001b[0m\n\u001b[1;32m     44\u001b[0m         \u001b[0mmodel\u001b[0m \u001b[0;34m+=\u001b[0m \u001b[0mdeviation\u001b[0m \u001b[0;34m<=\u001b[0m \u001b[0mt\u001b[0m\u001b[0;34m\u001b[0m\u001b[0m\n\u001b[1;32m     45\u001b[0m         \u001b[0mmodel\u001b[0m \u001b[0;34m+=\u001b[0m \u001b[0mdeviation\u001b[0m \u001b[0;34m>=\u001b[0m \u001b[0;34m-\u001b[0m\u001b[0mt\u001b[0m\u001b[0;34m\u001b[0m\u001b[0m\n\u001b[0;32m---> 46\u001b[0;31m         \u001b[0mmodel\u001b[0m \u001b[0;34m+=\u001b[0m \u001b[0;36m0.15\u001b[0m \u001b[0;34m>\u001b[0m \u001b[0msd_action\u001b[0m\u001b[0;34m\u001b[0m\u001b[0m\n\u001b[0m\u001b[1;32m     47\u001b[0m \u001b[0;34m\u001b[0m\u001b[0m\n\u001b[1;32m     48\u001b[0m         \u001b[0;31m#Constraints B\u001b[0m\u001b[0;34m\u001b[0m\u001b[0;34m\u001b[0m\u001b[0m\n",
      "\u001b[0;31mTypeError\u001b[0m: '>' not supported between instances of 'float' and 'LpAffineExpression'"
     ]
    }
   ],
   "source": [
    "n_val_rec = np.zeros_like(senergy)\n",
    "a_val_rec = np.zeros_like(senergy)\n",
    "batt_val_rec = np.zeros_like(senergy)\n",
    "previous_batt = BINIT\n",
    "for day in np.arange(0,NO_OF_DAYS):\n",
    "    a_val_rec[day] = np.array(solve(senergy[day],previous_batt))\n",
    "    n_val_rec[day] = a_val_rec[day]*DSCALE\n",
    "    for hour in np.arange(0, TIME_STEPS):\n",
    "        batt_val_rec[day][hour] = previous_batt + senergy[day][hour] - n_val_rec[day][hour]\n",
    "        batt_val_rec[day][hour] = np.clip(batt_val_rec[day][hour] ,0,BMAX)\n",
    "        previous_batt = batt_val_rec[day][hour]"
   ]
  },
  {
   "cell_type": "code",
   "execution_count": null,
   "metadata": {},
   "outputs": [],
   "source": [
    "np.save('lp_action_TOKYO_2018',a_val_rec)\n",
    "np.save('lp_battery_TOKYO_2018',batt_val_rec)"
   ]
  },
  {
   "cell_type": "code",
   "execution_count": null,
   "metadata": {},
   "outputs": [],
   "source": [
    "#plot the battery, henergy and node energy consumption profile for day = (0,364)\n",
    "day_start = 250\n",
    "day_end = 270\n",
    "\n",
    "fig = plt.figure(figsize=(24,3))\n",
    "ax = fig.add_subplot(111)\n",
    "ax.plot((batt_val_rec[day_start:day_end]/BMAX).flatten(),'r')\n",
    "ax.plot((senergy[day_start:day_end]/HMAX).flatten(),'k-')\n",
    "ax.plot((n_val_rec[day_start:day_end]/DMAX).flatten(),'b',alpha=0.5)\n",
    "ax.plot([BOPT/BMAX]*np.ones_like(batt_val_rec[day_start:day_end]).flatten(),'r:')\n",
    "ax.set_ylim([0,1])\n",
    "\n",
    "\n",
    "plt.show()\n"
   ]
  },
  {
   "cell_type": "code",
   "execution_count": null,
   "metadata": {},
   "outputs": [],
   "source": [
    "fig = plt.figure(figsize=(24,3))\n",
    "ax = fig.add_subplot(121)\n",
    "ax.plot(batt_val_rec.flatten()/BMAX,'r')\n",
    "ax.set_title(\"\\n\\nYear Run Battery\")\n",
    "ax.set_ylim([0,1])\n",
    "\n",
    "ax1 = fig.add_subplot(122)\n",
    "ax1.plot(n_val_rec.flatten()/DMAX,'g')\n",
    "ax1.set_title(\"\\n\\nYear Run Duty Cycle\")\n",
    "ax1.set_ylim([0,1])\n",
    "\n",
    "plt.show()"
   ]
  }
 ],
 "metadata": {
  "kernelspec": {
   "display_name": "Python 3",
   "language": "python",
   "name": "python3"
  },
  "language_info": {
   "codemirror_mode": {
    "name": "ipython",
    "version": 3
   },
   "file_extension": ".py",
   "mimetype": "text/x-python",
   "name": "python",
   "nbconvert_exporter": "python",
   "pygments_lexer": "ipython3",
   "version": "3.6.3"
  }
 },
 "nbformat": 4,
 "nbformat_minor": 2
}
